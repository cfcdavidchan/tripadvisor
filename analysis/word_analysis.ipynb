{
 "cells": [
  {
   "cell_type": "code",
   "execution_count": 1,
   "metadata": {
    "scrolled": true
   },
   "outputs": [],
   "source": [
    "import pandas as pd\n",
    "import re, os\n",
    "from nltk.corpus import stopwords\n",
    "from collections import Counter\n",
    "from nltk.stem.wordnet import WordNetLemmatizer"
   ]
  },
  {
   "cell_type": "code",
   "execution_count": 15,
   "metadata": {},
   "outputs": [],
   "source": [
    "data = '/non_hotel_data'\n",
    "root = os.getcwd()\n",
    "csv_directory = [file for file in os.listdir(root+data) if file.endswith(\".csv\")]"
   ]
  },
  {
   "cell_type": "code",
   "execution_count": 3,
   "metadata": {},
   "outputs": [],
   "source": [
    "def review_to_words(review_column):\n",
    "    num_reviews = review_column.size\n",
    "    \n",
    "    review_words_list = []\n",
    "    \n",
    "    for i in range(num_reviews):\n",
    "        raw_review = str.encode(review_column[i]).decode('unicode-escape')\n",
    "        # 1. Remove non-letters        \n",
    "        letters_only = re.sub(\"[^a-zA-Z]\", \" \", raw_review) \n",
    "        # 2. Convert to lower case, split into individual words\n",
    "        words = letters_only.lower().split()                             \n",
    "        # 3. Cleaning stop word\n",
    "        stops = set(stopwords.words(\"english\"))                  \n",
    "        meaningful_words = [w for w in words if not w in stops]   \n",
    "        # 4. changing all word to present tense\n",
    "        meaningful_words_list = [WordNetLemmatizer().lemmatize(word,'v') for word in meaningful_words]\n",
    "        \n",
    "        review_words_list += meaningful_words_list\n",
    "        \n",
    "    return(review_words_list)\n",
    "\n",
    "def update_word_count_pd(wordcount_pd, review_words_list, csv_name):\n",
    "    \n",
    "    wordcounter = Counter(review_words_list) #word counting\n",
    "    \n",
    "    for key, freq in wordcounter.items():\n",
    "    \n",
    "        if key not in list(wordcount_pd['word']):\n",
    "            wordcount_pd.loc[-1] = [key, freq, [csv_name]] #csv name\n",
    "            wordcount_pd.index = wordcount_pd.index + 1\n",
    "            wordcount_pd = wordcount_pd.sort_index()\n",
    "        else:\n",
    "            index_value = wordcount_pd[wordcount_pd['word']== key].index.values.astype(int)[0]\n",
    "\n",
    "            org_freq = wordcount_pd.loc[wordcount_pd['word'] == key, 'freq']\n",
    "            new_freq = org_freq + freq\n",
    "\n",
    "            org_source = wordcount_pd.loc[wordcount_pd['word'] == key, 'source']\n",
    "            new_source = org_source + [csv_name]\n",
    "            #print(source)\n",
    "            # update row\n",
    "            wordcount_pd.at[index_value,'freq'] = int(new_freq) #Update freq\n",
    "            wordcount_pd.at[index_value,'source'] = list(new_source)[0] #Update source\n",
    "    \n",
    "    return wordcount_pd"
   ]
  },
  {
   "cell_type": "code",
   "execution_count": 16,
   "metadata": {},
   "outputs": [],
   "source": [
    "wordcount_pd = pd.DataFrame(columns = ['word','freq','source']) # create empty dataframe"
   ]
  },
  {
   "cell_type": "code",
   "execution_count": 17,
   "metadata": {},
   "outputs": [
    {
     "name": "stdout",
     "output_type": "stream",
     "text": [
      "Tiki_Moon_Villas_all_data.csv\n",
      "Kalani_Hawaii_Private_Lodging_all_data.csv\n",
      "Manoa_Valley_Inn_all_data.csv\n",
      "Hawaiian_Monarch_Hotel_all_data.csv\n",
      "Waikiki_Beachside_Hostel_all_data.csv\n",
      "Stay_Condominiums_Waikiki_all_data.csv\n",
      "Marina_Tower_Waikiki_all_data.csv\n",
      "Wyndham_at_Waikiki_Beach_Walk_all_data.csv\n"
     ]
    }
   ],
   "source": [
    "for csv in csv_directory:\n",
    "    print (csv)\n",
    "    csv_path = root+data+'/' + csv\n",
    "    hotel_review = pd.read_csv(csv_path, delimiter=\"\\t\")\n",
    "    \n",
    "    review_words_list = review_to_words(hotel_review['review content'])\n",
    "    wordcount_pd = update_word_count_pd(wordcount_pd, review_words_list, csv)"
   ]
  },
  {
   "cell_type": "code",
   "execution_count": 18,
   "metadata": {},
   "outputs": [],
   "source": [
    "ascending_wordcount_pd = wordcount_pd.sort_values('freq', ascending=False)"
   ]
  },
  {
   "cell_type": "code",
   "execution_count": 19,
   "metadata": {},
   "outputs": [],
   "source": [
    "ascending_wordcount_pd.to_csv('non_hotel_summary.csv',index=False)"
   ]
  }
 ],
 "metadata": {
  "kernelspec": {
   "display_name": "Python [conda env:anaconda3]",
   "language": "python",
   "name": "conda-env-anaconda3-py"
  },
  "language_info": {
   "codemirror_mode": {
    "name": "ipython",
    "version": 3
   },
   "file_extension": ".py",
   "mimetype": "text/x-python",
   "name": "python",
   "nbconvert_exporter": "python",
   "pygments_lexer": "ipython3",
   "version": "3.6.4"
  }
 },
 "nbformat": 4,
 "nbformat_minor": 2
}
