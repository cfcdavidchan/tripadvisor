{
 "cells": [
  {
   "cell_type": "code",
   "execution_count": 12,
   "metadata": {},
   "outputs": [],
   "source": [
    "import pandas as pd\n",
    "import os"
   ]
  },
  {
   "cell_type": "code",
   "execution_count": 26,
   "metadata": {},
   "outputs": [],
   "source": [
    "hotel_data_path = os.path.join(os.getcwd(), 'hotel_data/')\n",
    "rental_data_path = os.path.join(os.getcwd(), 'rental_data/')\n",
    "non_hotel_data_path = os.path.join(os.getcwd(), 'non_hotel_data/')"
   ]
  },
  {
   "cell_type": "code",
   "execution_count": 28,
   "metadata": {},
   "outputs": [],
   "source": [
    "hotel_review_count = 0\n",
    "hotel_count = 0\n",
    "for root, dirs, files in os.walk(hotel_data_path):\n",
    "    for f in files:\n",
    "        if f.endswith('.csv'):\n",
    "            dt = pd.read_csv(os.path.join(root, f), delimiter=\"\\t\")\n",
    "            hotel_review_count += len(dt)\n",
    "            hotel_count+=1 "
   ]
  },
  {
   "cell_type": "code",
   "execution_count": 33,
   "metadata": {},
   "outputs": [],
   "source": [
    "rental_review_count = 0\n",
    "rental_count = 0\n",
    "for root, dirs, files in os.walk(rental_data_path):\n",
    "    for f in files:\n",
    "        if f.endswith('.csv'):\n",
    "            dt = pd.read_csv(os.path.join(root, f), delimiter=\"\\t\")\n",
    "            rental_review_count += len(dt)\n",
    "            rental_count+=1 "
   ]
  },
  {
   "cell_type": "code",
   "execution_count": 29,
   "metadata": {},
   "outputs": [],
   "source": [
    "non_hotel_review_count = 0\n",
    "non_hotel_count = 0\n",
    "for root, dirs, files in os.walk(non_hotel_data_path):\n",
    "    for f in files:\n",
    "        if f.endswith('.csv'):\n",
    "            dt = pd.read_csv(os.path.join(root, f), delimiter=\"\\t\")\n",
    "            non_hotel_review_count += len(dt)\n",
    "            non_hotel_count+=1 "
   ]
  },
  {
   "cell_type": "code",
   "execution_count": 34,
   "metadata": {},
   "outputs": [
    {
     "name": "stdout",
     "output_type": "stream",
     "text": [
      "number of hotel:  85\n",
      "number of hotel review :  58483\n",
      "number of rental:  546\n",
      "number of rental review :  4918\n",
      "number of non_hotel:  8\n",
      "number of non_hotel review :  2351\n"
     ]
    }
   ],
   "source": [
    "print ('number of hotel: ', hotel_count)\n",
    "print ('number of hotel review : ', hotel_review_count)\n",
    "\n",
    "print ('number of rental: ', rental_count)\n",
    "print ('number of rental review : ', rental_review_count)\n",
    "\n",
    "print ('number of non_hotel: ', non_hotel_count)\n",
    "print ('number of non_hotel review : ', non_hotel_review_count)"
   ]
  }
 ],
 "metadata": {
  "kernelspec": {
   "display_name": "Python [conda env:jing_jing]",
   "language": "python",
   "name": "conda-env-jing_jing-py"
  },
  "language_info": {
   "codemirror_mode": {
    "name": "ipython",
    "version": 3
   },
   "file_extension": ".py",
   "mimetype": "text/x-python",
   "name": "python",
   "nbconvert_exporter": "python",
   "pygments_lexer": "ipython3",
   "version": "3.5.6"
  }
 },
 "nbformat": 4,
 "nbformat_minor": 2
}
