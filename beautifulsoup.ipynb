{
 "cells": [
  {
   "cell_type": "code",
   "execution_count": 379,
   "metadata": {},
   "outputs": [],
   "source": [
    "import requests\n",
    "from bs4 import BeautifulSoup\n",
    "from urllib.request import urlopen\n",
    "import json"
   ]
  },
  {
   "cell_type": "code",
   "execution_count": 534,
   "metadata": {},
   "outputs": [],
   "source": [
    "def url_content(url):\n",
    "    response = urlopen(url, timeout=20)\n",
    "    soup = BeautifulSoup(response, \"html5lib\")\n",
    "\n",
    "    \n",
    "    ## extract the general information\n",
    "    general_information = json.loads(soup.find('script', type=\"application/ld+json\").text)\n",
    "    \n",
    "    review_date = general_information['datePublished']\n",
    "    title = general_information['name']\n",
    "    content = general_information['reviewBody']\n",
    "    overall_rating = int(general_information['reviewRating']['ratingValue'])\n",
    "    \n",
    "    ##return review_date, title, content, overall_rating\n",
    "    \n",
    "    ## extract the traveling type and date\n",
    "    stay_info = soup.find('div',{'class':\"recommend-titleInline\"}).text\n",
    "    stay_hardcode = 'Stayed: '\n",
    "    comma_hardcode = ', '    \n",
    "    stay_date = stay_info[len(stay_hardcode):stay_info.find(',')]\n",
    "    traveling_type = ''\n",
    "    traveling_type_table = ['family','couple','solo','business','frined']\n",
    "    for type_ in traveling_type_table:\n",
    "        if type_ in stay_info:\n",
    "            traveling_type = type_\n",
    "            break\n",
    "    if traveling_type == '': ## save the whole crwl info if the traveling type cannot be detacted\n",
    "        try:\n",
    "            print ('type cannot be detected')\n",
    "            traveling_type = stay_info[len('travelled as a '):]\n",
    "        except:\n",
    "            traveling_type = stay_info\n",
    "    ##return stay_date, traveling_type\n",
    "            \n",
    "    ## ranking part\n",
    "    star_info = soup.findAll('div',{'class':\"ui_column is-10-desktop is-12-tablet is-12-mobile\"})\n",
    "    star_info = star_info[0].findAll('li',{'class':\"recommend-answer\"})\n",
    "    \n",
    "    description = 'ui_bubble_rating bubble_'\n",
    "    ranking_dict = dict()\n",
    "    \n",
    "    if len(star_info) > 0: #only do this when the reviewer provides the rating of each area\n",
    "        for rate in star_info:\n",
    "            rate_area = rate.find('div',{'class':\"recommend-description\"}).text\n",
    "\n",
    "            pointer = str(rate).find(description) + len('ui_bubble_rating bubble_')\n",
    "            try:\n",
    "                rate_mark = int(str(rate)[pointer:pointer+2])\n",
    "            except:\n",
    "                rate_mark = str(rate)\n",
    "\n",
    "            ranking_dict[rate_area] = rate_mark\n",
    "    \n",
    "    ##return ranking_dict\n",
    "    \n",
    "    ## return all the info\n",
    "    return review_date, title, content, overall_rating, stay_date, traveling_type, ranking_dict\n",
    "    "
   ]
  },
  {
   "cell_type": "code",
   "execution_count": 501,
   "metadata": {},
   "outputs": [],
   "source": [
    "test_url = 'https://en.tripadvisor.com.hk/ShowUserReviews-g297701-d603335-r616402936-Viceroy_Bali-Ubud_Bali.html'\n",
    "#test_url = 'https://en.tripadvisor.com.hk/ShowUserReviews-g297701-d603335-r507151028-Viceroy_Bali-Ubud_Bali.html'\n",
    "#request = urllib.urllib.Request(test_url)\n",
    "response = urlopen(test_url)\n",
    "\n",
    "#content = response.read()\n",
    "\n",
    "soup = BeautifulSoup(response.read(),'html.parser')"
   ]
  },
  {
   "cell_type": "code",
   "execution_count": 502,
   "metadata": {},
   "outputs": [],
   "source": [
    "tmp = soup.findAll('div',{'class':\"ui_column is-10-desktop is-12-tablet is-12-mobile\"})"
   ]
  },
  {
   "cell_type": "code",
   "execution_count": 505,
   "metadata": {},
   "outputs": [
    {
     "data": {
      "text/plain": [
       "[<li class=\"recommend-answer\"><div class=\"ui_bubble_rating bubble_50\"></div><div class=\"recommend-description\">Value</div></li>,\n",
       " <li class=\"recommend-answer\"><div class=\"ui_bubble_rating bubble_50\"></div><div class=\"recommend-description\">Rooms</div></li>,\n",
       " <li class=\"recommend-answer\"><div class=\"ui_bubble_rating bubble_50\"></div><div class=\"recommend-description\">Service</div></li>]"
      ]
     },
     "execution_count": 505,
     "metadata": {},
     "output_type": "execute_result"
    }
   ],
   "source": [
    "rating = tmp[0].findAll('li',{'class':\"recommend-answer\"})\n",
    "rating"
   ]
  },
  {
   "cell_type": "code",
   "execution_count": 532,
   "metadata": {},
   "outputs": [
    {
     "name": "stdout",
     "output_type": "stream",
     "text": [
      "stay_date: August 2018\n",
      "type detected\n"
     ]
    }
   ],
   "source": [
    "url = 'https://en.tripadvisor.com.hk/ShowUserReviews-g297701-d603335-r616402936-Viceroy_Bali-Ubud_Bali.html'\n",
    "\n",
    "review_date, title, content, overall_rating, stay_date, traveling_type, ranking_dict = url_content(url)"
   ]
  },
  {
   "cell_type": "code",
   "execution_count": 535,
   "metadata": {},
   "outputs": [
    {
     "name": "stdout",
     "output_type": "stream",
     "text": [
      "review date:  14 September 2018\n",
      "review title:  The most amazing place I have ever been\n",
      "review content:  I would highly recommend this place.\\nThe place is amazing. This was our last stop on our honeymoon and it did not disappoint. When we arrived we were given a welcome drink and then shown to the bar to sit down for 10 mins while our room was finished. During that time we saw monkeys in the trees opposite. We were then shown to our villa and again this did not disappoint, it was amazing. The monkeys we saw earlier came closer but not all the way up to our villa.\\nThe food in the restaurant was great and the staff were fantastic. The spa was great.\\nThere is some building work going on but it does not disturb you at all.\\nWonderful place and would highly recommend. Thank you everyone at Viceroy Bali for making our trip so special.\n",
      "overall rating:  5\n",
      "Stay date:  August 2018\n",
      "traveling type:  couple\n",
      "Rating Table:  {'Value': 50, 'Service': 50, 'Rooms': 50}\n"
     ]
    }
   ],
   "source": [
    "print ('review date: ',review_date)\n",
    "print ('review title: ',title)\n",
    "print ('review content: ', content)\n",
    "print ('overall rating: ', overall_rating)\n",
    "print ('Stay date: ',stay_date)\n",
    "print ('traveling type: ', traveling_type)\n",
    "print ('Rating Table: ', ranking_dict)"
   ]
  }
 ],
 "metadata": {
  "kernelspec": {
   "display_name": "Python 3",
   "language": "python",
   "name": "python3"
  },
  "language_info": {
   "codemirror_mode": {
    "name": "ipython",
    "version": 3
   },
   "file_extension": ".py",
   "mimetype": "text/x-python",
   "name": "python",
   "nbconvert_exporter": "python",
   "pygments_lexer": "ipython3",
   "version": "3.5.6"
  }
 },
 "nbformat": 4,
 "nbformat_minor": 2
}
