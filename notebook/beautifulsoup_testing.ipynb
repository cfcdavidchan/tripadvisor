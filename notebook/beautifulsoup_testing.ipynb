{
 "cells": [
  {
   "cell_type": "code",
   "execution_count": 2,
   "metadata": {
    "collapsed": true
   },
   "outputs": [],
   "source": [
    "from urllib.request import urlopen\n",
    "import requests, json\n",
    "from bs4 import BeautifulSoup"
   ]
  },
  {
   "cell_type": "code",
   "execution_count": 3,
   "metadata": {
    "collapsed": true
   },
   "outputs": [],
   "source": [
    "url = 'https://en.tripadvisor.com.hk/Hotel_Review-g297701-d8293999-Reviews-Mandapa_A_Ritz_Carlton_Reserve-Ubud_Bali.html'\n",
    "\n",
    "response = urlopen(url, timeout=20)\n",
    "soup = BeautifulSoup(response, \"html5lib\")"
   ]
  },
  {
   "cell_type": "code",
   "execution_count": 71,
   "metadata": {},
   "outputs": [],
   "source": [
    "page_name = []\n",
    "page_bar = soup.find('div',{'class':'prw_rup prw_common_responsive_pagination'})\n",
    "for data in page_bar.findAll('a'):\n",
    "    try:\n",
    "        page_name.append(int(data['data-page-number']))\n",
    "    except:\n",
    "        pass"
   ]
  },
  {
   "cell_type": "code",
   "execution_count": 84,
   "metadata": {},
   "outputs": [
    {
     "name": "stdout",
     "output_type": "stream",
     "text": [
      "https://en.tripadvisor.com.hk/Hotel_Review-g297701-d8293999-Reviews-or5-Mandapa_A_Ritz_Carlton_Reserve-Ubud_Bali.html\n",
      "https://en.tripadvisor.com.hk/Hotel_Review-g297701-d8293999-Reviews-or10-Mandapa_A_Ritz_Carlton_Reserve-Ubud_Bali.html\n",
      "https://en.tripadvisor.com.hk/Hotel_Review-g297701-d8293999-Reviews-or15-Mandapa_A_Ritz_Carlton_Reserve-Ubud_Bali.html\n",
      "https://en.tripadvisor.com.hk/Hotel_Review-g297701-d8293999-Reviews-or20-Mandapa_A_Ritz_Carlton_Reserve-Ubud_Bali.html\n",
      "https://en.tripadvisor.com.hk/Hotel_Review-g297701-d8293999-Reviews-or25-Mandapa_A_Ritz_Carlton_Reserve-Ubud_Bali.html\n",
      "https://en.tripadvisor.com.hk/Hotel_Review-g297701-d8293999-Reviews-or30-Mandapa_A_Ritz_Carlton_Reserve-Ubud_Bali.html\n",
      "https://en.tripadvisor.com.hk/Hotel_Review-g297701-d8293999-Reviews-or35-Mandapa_A_Ritz_Carlton_Reserve-Ubud_Bali.html\n",
      "https://en.tripadvisor.com.hk/Hotel_Review-g297701-d8293999-Reviews-or40-Mandapa_A_Ritz_Carlton_Reserve-Ubud_Bali.html\n",
      "https://en.tripadvisor.com.hk/Hotel_Review-g297701-d8293999-Reviews-or45-Mandapa_A_Ritz_Carlton_Reserve-Ubud_Bali.html\n",
      "https://en.tripadvisor.com.hk/Hotel_Review-g297701-d8293999-Reviews-or50-Mandapa_A_Ritz_Carlton_Reserve-Ubud_Bali.html\n",
      "https://en.tripadvisor.com.hk/Hotel_Review-g297701-d8293999-Reviews-or55-Mandapa_A_Ritz_Carlton_Reserve-Ubud_Bali.html\n",
      "https://en.tripadvisor.com.hk/Hotel_Review-g297701-d8293999-Reviews-or60-Mandapa_A_Ritz_Carlton_Reserve-Ubud_Bali.html\n",
      "https://en.tripadvisor.com.hk/Hotel_Review-g297701-d8293999-Reviews-or65-Mandapa_A_Ritz_Carlton_Reserve-Ubud_Bali.html\n",
      "https://en.tripadvisor.com.hk/Hotel_Review-g297701-d8293999-Reviews-or70-Mandapa_A_Ritz_Carlton_Reserve-Ubud_Bali.html\n",
      "https://en.tripadvisor.com.hk/Hotel_Review-g297701-d8293999-Reviews-or75-Mandapa_A_Ritz_Carlton_Reserve-Ubud_Bali.html\n",
      "https://en.tripadvisor.com.hk/Hotel_Review-g297701-d8293999-Reviews-or80-Mandapa_A_Ritz_Carlton_Reserve-Ubud_Bali.html\n",
      "https://en.tripadvisor.com.hk/Hotel_Review-g297701-d8293999-Reviews-or85-Mandapa_A_Ritz_Carlton_Reserve-Ubud_Bali.html\n",
      "https://en.tripadvisor.com.hk/Hotel_Review-g297701-d8293999-Reviews-or90-Mandapa_A_Ritz_Carlton_Reserve-Ubud_Bali.html\n",
      "https://en.tripadvisor.com.hk/Hotel_Review-g297701-d8293999-Reviews-or95-Mandapa_A_Ritz_Carlton_Reserve-Ubud_Bali.html\n",
      "https://en.tripadvisor.com.hk/Hotel_Review-g297701-d8293999-Reviews-or100-Mandapa_A_Ritz_Carlton_Reserve-Ubud_Bali.html\n",
      "https://en.tripadvisor.com.hk/Hotel_Review-g297701-d8293999-Reviews-or105-Mandapa_A_Ritz_Carlton_Reserve-Ubud_Bali.html\n",
      "https://en.tripadvisor.com.hk/Hotel_Review-g297701-d8293999-Reviews-or110-Mandapa_A_Ritz_Carlton_Reserve-Ubud_Bali.html\n",
      "https://en.tripadvisor.com.hk/Hotel_Review-g297701-d8293999-Reviews-or115-Mandapa_A_Ritz_Carlton_Reserve-Ubud_Bali.html\n",
      "https://en.tripadvisor.com.hk/Hotel_Review-g297701-d8293999-Reviews-or120-Mandapa_A_Ritz_Carlton_Reserve-Ubud_Bali.html\n",
      "https://en.tripadvisor.com.hk/Hotel_Review-g297701-d8293999-Reviews-or125-Mandapa_A_Ritz_Carlton_Reserve-Ubud_Bali.html\n",
      "https://en.tripadvisor.com.hk/Hotel_Review-g297701-d8293999-Reviews-or130-Mandapa_A_Ritz_Carlton_Reserve-Ubud_Bali.html\n",
      "https://en.tripadvisor.com.hk/Hotel_Review-g297701-d8293999-Reviews-or135-Mandapa_A_Ritz_Carlton_Reserve-Ubud_Bali.html\n",
      "https://en.tripadvisor.com.hk/Hotel_Review-g297701-d8293999-Reviews-or140-Mandapa_A_Ritz_Carlton_Reserve-Ubud_Bali.html\n",
      "https://en.tripadvisor.com.hk/Hotel_Review-g297701-d8293999-Reviews-or145-Mandapa_A_Ritz_Carlton_Reserve-Ubud_Bali.html\n",
      "https://en.tripadvisor.com.hk/Hotel_Review-g297701-d8293999-Reviews-or150-Mandapa_A_Ritz_Carlton_Reserve-Ubud_Bali.html\n",
      "https://en.tripadvisor.com.hk/Hotel_Review-g297701-d8293999-Reviews-or155-Mandapa_A_Ritz_Carlton_Reserve-Ubud_Bali.html\n",
      "https://en.tripadvisor.com.hk/Hotel_Review-g297701-d8293999-Reviews-or160-Mandapa_A_Ritz_Carlton_Reserve-Ubud_Bali.html\n",
      "https://en.tripadvisor.com.hk/Hotel_Review-g297701-d8293999-Reviews-or165-Mandapa_A_Ritz_Carlton_Reserve-Ubud_Bali.html\n",
      "https://en.tripadvisor.com.hk/Hotel_Review-g297701-d8293999-Reviews-or170-Mandapa_A_Ritz_Carlton_Reserve-Ubud_Bali.html\n",
      "https://en.tripadvisor.com.hk/Hotel_Review-g297701-d8293999-Reviews-or175-Mandapa_A_Ritz_Carlton_Reserve-Ubud_Bali.html\n",
      "https://en.tripadvisor.com.hk/Hotel_Review-g297701-d8293999-Reviews-or180-Mandapa_A_Ritz_Carlton_Reserve-Ubud_Bali.html\n",
      "https://en.tripadvisor.com.hk/Hotel_Review-g297701-d8293999-Reviews-or185-Mandapa_A_Ritz_Carlton_Reserve-Ubud_Bali.html\n",
      "https://en.tripadvisor.com.hk/Hotel_Review-g297701-d8293999-Reviews-or190-Mandapa_A_Ritz_Carlton_Reserve-Ubud_Bali.html\n",
      "https://en.tripadvisor.com.hk/Hotel_Review-g297701-d8293999-Reviews-or195-Mandapa_A_Ritz_Carlton_Reserve-Ubud_Bali.html\n",
      "https://en.tripadvisor.com.hk/Hotel_Review-g297701-d8293999-Reviews-or200-Mandapa_A_Ritz_Carlton_Reserve-Ubud_Bali.html\n",
      "https://en.tripadvisor.com.hk/Hotel_Review-g297701-d8293999-Reviews-or205-Mandapa_A_Ritz_Carlton_Reserve-Ubud_Bali.html\n",
      "https://en.tripadvisor.com.hk/Hotel_Review-g297701-d8293999-Reviews-or210-Mandapa_A_Ritz_Carlton_Reserve-Ubud_Bali.html\n",
      "https://en.tripadvisor.com.hk/Hotel_Review-g297701-d8293999-Reviews-or215-Mandapa_A_Ritz_Carlton_Reserve-Ubud_Bali.html\n",
      "https://en.tripadvisor.com.hk/Hotel_Review-g297701-d8293999-Reviews-or220-Mandapa_A_Ritz_Carlton_Reserve-Ubud_Bali.html\n",
      "https://en.tripadvisor.com.hk/Hotel_Review-g297701-d8293999-Reviews-or225-Mandapa_A_Ritz_Carlton_Reserve-Ubud_Bali.html\n",
      "https://en.tripadvisor.com.hk/Hotel_Review-g297701-d8293999-Reviews-or230-Mandapa_A_Ritz_Carlton_Reserve-Ubud_Bali.html\n",
      "https://en.tripadvisor.com.hk/Hotel_Review-g297701-d8293999-Reviews-or235-Mandapa_A_Ritz_Carlton_Reserve-Ubud_Bali.html\n",
      "https://en.tripadvisor.com.hk/Hotel_Review-g297701-d8293999-Reviews-or240-Mandapa_A_Ritz_Carlton_Reserve-Ubud_Bali.html\n",
      "https://en.tripadvisor.com.hk/Hotel_Review-g297701-d8293999-Reviews-or245-Mandapa_A_Ritz_Carlton_Reserve-Ubud_Bali.html\n",
      "https://en.tripadvisor.com.hk/Hotel_Review-g297701-d8293999-Reviews-or250-Mandapa_A_Ritz_Carlton_Reserve-Ubud_Bali.html\n",
      "https://en.tripadvisor.com.hk/Hotel_Review-g297701-d8293999-Reviews-or255-Mandapa_A_Ritz_Carlton_Reserve-Ubud_Bali.html\n",
      "https://en.tripadvisor.com.hk/Hotel_Review-g297701-d8293999-Reviews-or260-Mandapa_A_Ritz_Carlton_Reserve-Ubud_Bali.html\n",
      "https://en.tripadvisor.com.hk/Hotel_Review-g297701-d8293999-Reviews-or265-Mandapa_A_Ritz_Carlton_Reserve-Ubud_Bali.html\n",
      "https://en.tripadvisor.com.hk/Hotel_Review-g297701-d8293999-Reviews-or270-Mandapa_A_Ritz_Carlton_Reserve-Ubud_Bali.html\n",
      "https://en.tripadvisor.com.hk/Hotel_Review-g297701-d8293999-Reviews-or275-Mandapa_A_Ritz_Carlton_Reserve-Ubud_Bali.html\n",
      "https://en.tripadvisor.com.hk/Hotel_Review-g297701-d8293999-Reviews-or280-Mandapa_A_Ritz_Carlton_Reserve-Ubud_Bali.html\n",
      "https://en.tripadvisor.com.hk/Hotel_Review-g297701-d8293999-Reviews-or285-Mandapa_A_Ritz_Carlton_Reserve-Ubud_Bali.html\n",
      "https://en.tripadvisor.com.hk/Hotel_Review-g297701-d8293999-Reviews-or290-Mandapa_A_Ritz_Carlton_Reserve-Ubud_Bali.html\n",
      "https://en.tripadvisor.com.hk/Hotel_Review-g297701-d8293999-Reviews-or295-Mandapa_A_Ritz_Carlton_Reserve-Ubud_Bali.html\n",
      "https://en.tripadvisor.com.hk/Hotel_Review-g297701-d8293999-Reviews-or300-Mandapa_A_Ritz_Carlton_Reserve-Ubud_Bali.html\n",
      "https://en.tripadvisor.com.hk/Hotel_Review-g297701-d8293999-Reviews-or305-Mandapa_A_Ritz_Carlton_Reserve-Ubud_Bali.html\n",
      "https://en.tripadvisor.com.hk/Hotel_Review-g297701-d8293999-Reviews-or310-Mandapa_A_Ritz_Carlton_Reserve-Ubud_Bali.html\n",
      "https://en.tripadvisor.com.hk/Hotel_Review-g297701-d8293999-Reviews-or315-Mandapa_A_Ritz_Carlton_Reserve-Ubud_Bali.html\n",
      "https://en.tripadvisor.com.hk/Hotel_Review-g297701-d8293999-Reviews-or320-Mandapa_A_Ritz_Carlton_Reserve-Ubud_Bali.html\n",
      "https://en.tripadvisor.com.hk/Hotel_Review-g297701-d8293999-Reviews-or325-Mandapa_A_Ritz_Carlton_Reserve-Ubud_Bali.html\n",
      "https://en.tripadvisor.com.hk/Hotel_Review-g297701-d8293999-Reviews-or330-Mandapa_A_Ritz_Carlton_Reserve-Ubud_Bali.html\n",
      "https://en.tripadvisor.com.hk/Hotel_Review-g297701-d8293999-Reviews-or335-Mandapa_A_Ritz_Carlton_Reserve-Ubud_Bali.html\n",
      "https://en.tripadvisor.com.hk/Hotel_Review-g297701-d8293999-Reviews-or340-Mandapa_A_Ritz_Carlton_Reserve-Ubud_Bali.html\n",
      "https://en.tripadvisor.com.hk/Hotel_Review-g297701-d8293999-Reviews-or345-Mandapa_A_Ritz_Carlton_Reserve-Ubud_Bali.html\n"
     ]
    },
    {
     "name": "stdout",
     "output_type": "stream",
     "text": [
      "https://en.tripadvisor.com.hk/Hotel_Review-g297701-d8293999-Reviews-or350-Mandapa_A_Ritz_Carlton_Reserve-Ubud_Bali.html\n",
      "https://en.tripadvisor.com.hk/Hotel_Review-g297701-d8293999-Reviews-or355-Mandapa_A_Ritz_Carlton_Reserve-Ubud_Bali.html\n",
      "https://en.tripadvisor.com.hk/Hotel_Review-g297701-d8293999-Reviews-or360-Mandapa_A_Ritz_Carlton_Reserve-Ubud_Bali.html\n",
      "https://en.tripadvisor.com.hk/Hotel_Review-g297701-d8293999-Reviews-or365-Mandapa_A_Ritz_Carlton_Reserve-Ubud_Bali.html\n",
      "https://en.tripadvisor.com.hk/Hotel_Review-g297701-d8293999-Reviews-or370-Mandapa_A_Ritz_Carlton_Reserve-Ubud_Bali.html\n",
      "https://en.tripadvisor.com.hk/Hotel_Review-g297701-d8293999-Reviews-or375-Mandapa_A_Ritz_Carlton_Reserve-Ubud_Bali.html\n",
      "https://en.tripadvisor.com.hk/Hotel_Review-g297701-d8293999-Reviews-or380-Mandapa_A_Ritz_Carlton_Reserve-Ubud_Bali.html\n",
      "https://en.tripadvisor.com.hk/Hotel_Review-g297701-d8293999-Reviews-or385-Mandapa_A_Ritz_Carlton_Reserve-Ubud_Bali.html\n",
      "https://en.tripadvisor.com.hk/Hotel_Review-g297701-d8293999-Reviews-or390-Mandapa_A_Ritz_Carlton_Reserve-Ubud_Bali.html\n",
      "https://en.tripadvisor.com.hk/Hotel_Review-g297701-d8293999-Reviews-or395-Mandapa_A_Ritz_Carlton_Reserve-Ubud_Bali.html\n"
     ]
    },
    {
     "ename": "KeyboardInterrupt",
     "evalue": "",
     "output_type": "error",
     "traceback": [
      "\u001b[0;31m---------------------------------------------------------------------------\u001b[0m",
      "\u001b[0;31mKeyboardInterrupt\u001b[0m                         Traceback (most recent call last)",
      "\u001b[0;32m<ipython-input-84-66f06d2b6750>\u001b[0m in \u001b[0;36m<module>\u001b[0;34m()\u001b[0m\n\u001b[1;32m      4\u001b[0m \u001b[0;34m\u001b[0m\u001b[0m\n\u001b[1;32m      5\u001b[0m \u001b[0;32mwhile\u001b[0m \u001b[0;32mTrue\u001b[0m\u001b[0;34m:\u001b[0m\u001b[0;34m\u001b[0m\u001b[0m\n\u001b[0;32m----> 6\u001b[0;31m     \u001b[0mresponse\u001b[0m \u001b[0;34m=\u001b[0m \u001b[0murlopen\u001b[0m\u001b[0;34m(\u001b[0m\u001b[0mfull_url\u001b[0m\u001b[0;34m,\u001b[0m \u001b[0mtimeout\u001b[0m\u001b[0;34m=\u001b[0m\u001b[0;36m20\u001b[0m\u001b[0;34m)\u001b[0m\u001b[0;34m\u001b[0m\u001b[0m\n\u001b[0m\u001b[1;32m      7\u001b[0m     \u001b[0msoup\u001b[0m \u001b[0;34m=\u001b[0m \u001b[0mBeautifulSoup\u001b[0m\u001b[0;34m(\u001b[0m\u001b[0mresponse\u001b[0m\u001b[0;34m,\u001b[0m \u001b[0;34m\"html5lib\"\u001b[0m\u001b[0;34m)\u001b[0m\u001b[0;34m\u001b[0m\u001b[0m\n\u001b[1;32m      8\u001b[0m     \u001b[0;32mtry\u001b[0m\u001b[0;34m:\u001b[0m\u001b[0;34m\u001b[0m\u001b[0m\n",
      "\u001b[0;32m~/anaconda3/envs/jing_jing/lib/python3.5/urllib/request.py\u001b[0m in \u001b[0;36murlopen\u001b[0;34m(url, data, timeout, cafile, capath, cadefault, context)\u001b[0m\n\u001b[1;32m    161\u001b[0m     \u001b[0;32melse\u001b[0m\u001b[0;34m:\u001b[0m\u001b[0;34m\u001b[0m\u001b[0m\n\u001b[1;32m    162\u001b[0m         \u001b[0mopener\u001b[0m \u001b[0;34m=\u001b[0m \u001b[0m_opener\u001b[0m\u001b[0;34m\u001b[0m\u001b[0m\n\u001b[0;32m--> 163\u001b[0;31m     \u001b[0;32mreturn\u001b[0m \u001b[0mopener\u001b[0m\u001b[0;34m.\u001b[0m\u001b[0mopen\u001b[0m\u001b[0;34m(\u001b[0m\u001b[0murl\u001b[0m\u001b[0;34m,\u001b[0m \u001b[0mdata\u001b[0m\u001b[0;34m,\u001b[0m \u001b[0mtimeout\u001b[0m\u001b[0;34m)\u001b[0m\u001b[0;34m\u001b[0m\u001b[0m\n\u001b[0m\u001b[1;32m    164\u001b[0m \u001b[0;34m\u001b[0m\u001b[0m\n\u001b[1;32m    165\u001b[0m \u001b[0;32mdef\u001b[0m \u001b[0minstall_opener\u001b[0m\u001b[0;34m(\u001b[0m\u001b[0mopener\u001b[0m\u001b[0;34m)\u001b[0m\u001b[0;34m:\u001b[0m\u001b[0;34m\u001b[0m\u001b[0m\n",
      "\u001b[0;32m~/anaconda3/envs/jing_jing/lib/python3.5/urllib/request.py\u001b[0m in \u001b[0;36mopen\u001b[0;34m(self, fullurl, data, timeout)\u001b[0m\n\u001b[1;32m    464\u001b[0m             \u001b[0mreq\u001b[0m \u001b[0;34m=\u001b[0m \u001b[0mmeth\u001b[0m\u001b[0;34m(\u001b[0m\u001b[0mreq\u001b[0m\u001b[0;34m)\u001b[0m\u001b[0;34m\u001b[0m\u001b[0m\n\u001b[1;32m    465\u001b[0m \u001b[0;34m\u001b[0m\u001b[0m\n\u001b[0;32m--> 466\u001b[0;31m         \u001b[0mresponse\u001b[0m \u001b[0;34m=\u001b[0m \u001b[0mself\u001b[0m\u001b[0;34m.\u001b[0m\u001b[0m_open\u001b[0m\u001b[0;34m(\u001b[0m\u001b[0mreq\u001b[0m\u001b[0;34m,\u001b[0m \u001b[0mdata\u001b[0m\u001b[0;34m)\u001b[0m\u001b[0;34m\u001b[0m\u001b[0m\n\u001b[0m\u001b[1;32m    467\u001b[0m \u001b[0;34m\u001b[0m\u001b[0m\n\u001b[1;32m    468\u001b[0m         \u001b[0;31m# post-process response\u001b[0m\u001b[0;34m\u001b[0m\u001b[0;34m\u001b[0m\u001b[0m\n",
      "\u001b[0;32m~/anaconda3/envs/jing_jing/lib/python3.5/urllib/request.py\u001b[0m in \u001b[0;36m_open\u001b[0;34m(self, req, data)\u001b[0m\n\u001b[1;32m    482\u001b[0m         \u001b[0mprotocol\u001b[0m \u001b[0;34m=\u001b[0m \u001b[0mreq\u001b[0m\u001b[0;34m.\u001b[0m\u001b[0mtype\u001b[0m\u001b[0;34m\u001b[0m\u001b[0m\n\u001b[1;32m    483\u001b[0m         result = self._call_chain(self.handle_open, protocol, protocol +\n\u001b[0;32m--> 484\u001b[0;31m                                   '_open', req)\n\u001b[0m\u001b[1;32m    485\u001b[0m         \u001b[0;32mif\u001b[0m \u001b[0mresult\u001b[0m\u001b[0;34m:\u001b[0m\u001b[0;34m\u001b[0m\u001b[0m\n\u001b[1;32m    486\u001b[0m             \u001b[0;32mreturn\u001b[0m \u001b[0mresult\u001b[0m\u001b[0;34m\u001b[0m\u001b[0m\n",
      "\u001b[0;32m~/anaconda3/envs/jing_jing/lib/python3.5/urllib/request.py\u001b[0m in \u001b[0;36m_call_chain\u001b[0;34m(self, chain, kind, meth_name, *args)\u001b[0m\n\u001b[1;32m    442\u001b[0m         \u001b[0;32mfor\u001b[0m \u001b[0mhandler\u001b[0m \u001b[0;32min\u001b[0m \u001b[0mhandlers\u001b[0m\u001b[0;34m:\u001b[0m\u001b[0;34m\u001b[0m\u001b[0m\n\u001b[1;32m    443\u001b[0m             \u001b[0mfunc\u001b[0m \u001b[0;34m=\u001b[0m \u001b[0mgetattr\u001b[0m\u001b[0;34m(\u001b[0m\u001b[0mhandler\u001b[0m\u001b[0;34m,\u001b[0m \u001b[0mmeth_name\u001b[0m\u001b[0;34m)\u001b[0m\u001b[0;34m\u001b[0m\u001b[0m\n\u001b[0;32m--> 444\u001b[0;31m             \u001b[0mresult\u001b[0m \u001b[0;34m=\u001b[0m \u001b[0mfunc\u001b[0m\u001b[0;34m(\u001b[0m\u001b[0;34m*\u001b[0m\u001b[0margs\u001b[0m\u001b[0;34m)\u001b[0m\u001b[0;34m\u001b[0m\u001b[0m\n\u001b[0m\u001b[1;32m    445\u001b[0m             \u001b[0;32mif\u001b[0m \u001b[0mresult\u001b[0m \u001b[0;32mis\u001b[0m \u001b[0;32mnot\u001b[0m \u001b[0;32mNone\u001b[0m\u001b[0;34m:\u001b[0m\u001b[0;34m\u001b[0m\u001b[0m\n\u001b[1;32m    446\u001b[0m                 \u001b[0;32mreturn\u001b[0m \u001b[0mresult\u001b[0m\u001b[0;34m\u001b[0m\u001b[0m\n",
      "\u001b[0;32m~/anaconda3/envs/jing_jing/lib/python3.5/urllib/request.py\u001b[0m in \u001b[0;36mhttps_open\u001b[0;34m(self, req)\u001b[0m\n\u001b[1;32m   1295\u001b[0m         \u001b[0;32mdef\u001b[0m \u001b[0mhttps_open\u001b[0m\u001b[0;34m(\u001b[0m\u001b[0mself\u001b[0m\u001b[0;34m,\u001b[0m \u001b[0mreq\u001b[0m\u001b[0;34m)\u001b[0m\u001b[0;34m:\u001b[0m\u001b[0;34m\u001b[0m\u001b[0m\n\u001b[1;32m   1296\u001b[0m             return self.do_open(http.client.HTTPSConnection, req,\n\u001b[0;32m-> 1297\u001b[0;31m                 context=self._context, check_hostname=self._check_hostname)\n\u001b[0m\u001b[1;32m   1298\u001b[0m \u001b[0;34m\u001b[0m\u001b[0m\n\u001b[1;32m   1299\u001b[0m         \u001b[0mhttps_request\u001b[0m \u001b[0;34m=\u001b[0m \u001b[0mAbstractHTTPHandler\u001b[0m\u001b[0;34m.\u001b[0m\u001b[0mdo_request_\u001b[0m\u001b[0;34m\u001b[0m\u001b[0m\n",
      "\u001b[0;32m~/anaconda3/envs/jing_jing/lib/python3.5/urllib/request.py\u001b[0m in \u001b[0;36mdo_open\u001b[0;34m(self, http_class, req, **http_conn_args)\u001b[0m\n\u001b[1;32m   1255\u001b[0m             \u001b[0;32mexcept\u001b[0m \u001b[0mOSError\u001b[0m \u001b[0;32mas\u001b[0m \u001b[0merr\u001b[0m\u001b[0;34m:\u001b[0m \u001b[0;31m# timeout error\u001b[0m\u001b[0;34m\u001b[0m\u001b[0m\n\u001b[1;32m   1256\u001b[0m                 \u001b[0;32mraise\u001b[0m \u001b[0mURLError\u001b[0m\u001b[0;34m(\u001b[0m\u001b[0merr\u001b[0m\u001b[0;34m)\u001b[0m\u001b[0;34m\u001b[0m\u001b[0m\n\u001b[0;32m-> 1257\u001b[0;31m             \u001b[0mr\u001b[0m \u001b[0;34m=\u001b[0m \u001b[0mh\u001b[0m\u001b[0;34m.\u001b[0m\u001b[0mgetresponse\u001b[0m\u001b[0;34m(\u001b[0m\u001b[0;34m)\u001b[0m\u001b[0;34m\u001b[0m\u001b[0m\n\u001b[0m\u001b[1;32m   1258\u001b[0m         \u001b[0;32mexcept\u001b[0m\u001b[0;34m:\u001b[0m\u001b[0;34m\u001b[0m\u001b[0m\n\u001b[1;32m   1259\u001b[0m             \u001b[0mh\u001b[0m\u001b[0;34m.\u001b[0m\u001b[0mclose\u001b[0m\u001b[0;34m(\u001b[0m\u001b[0;34m)\u001b[0m\u001b[0;34m\u001b[0m\u001b[0m\n",
      "\u001b[0;32m~/anaconda3/envs/jing_jing/lib/python3.5/http/client.py\u001b[0m in \u001b[0;36mgetresponse\u001b[0;34m(self)\u001b[0m\n\u001b[1;32m   1196\u001b[0m         \u001b[0;32mtry\u001b[0m\u001b[0;34m:\u001b[0m\u001b[0;34m\u001b[0m\u001b[0m\n\u001b[1;32m   1197\u001b[0m             \u001b[0;32mtry\u001b[0m\u001b[0;34m:\u001b[0m\u001b[0;34m\u001b[0m\u001b[0m\n\u001b[0;32m-> 1198\u001b[0;31m                 \u001b[0mresponse\u001b[0m\u001b[0;34m.\u001b[0m\u001b[0mbegin\u001b[0m\u001b[0;34m(\u001b[0m\u001b[0;34m)\u001b[0m\u001b[0;34m\u001b[0m\u001b[0m\n\u001b[0m\u001b[1;32m   1199\u001b[0m             \u001b[0;32mexcept\u001b[0m \u001b[0mConnectionError\u001b[0m\u001b[0;34m:\u001b[0m\u001b[0;34m\u001b[0m\u001b[0m\n\u001b[1;32m   1200\u001b[0m                 \u001b[0mself\u001b[0m\u001b[0;34m.\u001b[0m\u001b[0mclose\u001b[0m\u001b[0;34m(\u001b[0m\u001b[0;34m)\u001b[0m\u001b[0;34m\u001b[0m\u001b[0m\n",
      "\u001b[0;32m~/anaconda3/envs/jing_jing/lib/python3.5/http/client.py\u001b[0m in \u001b[0;36mbegin\u001b[0;34m(self)\u001b[0m\n\u001b[1;32m    319\u001b[0m             \u001b[0;32mraise\u001b[0m \u001b[0mUnknownProtocol\u001b[0m\u001b[0;34m(\u001b[0m\u001b[0mversion\u001b[0m\u001b[0;34m)\u001b[0m\u001b[0;34m\u001b[0m\u001b[0m\n\u001b[1;32m    320\u001b[0m \u001b[0;34m\u001b[0m\u001b[0m\n\u001b[0;32m--> 321\u001b[0;31m         \u001b[0mself\u001b[0m\u001b[0;34m.\u001b[0m\u001b[0mheaders\u001b[0m \u001b[0;34m=\u001b[0m \u001b[0mself\u001b[0m\u001b[0;34m.\u001b[0m\u001b[0mmsg\u001b[0m \u001b[0;34m=\u001b[0m \u001b[0mparse_headers\u001b[0m\u001b[0;34m(\u001b[0m\u001b[0mself\u001b[0m\u001b[0;34m.\u001b[0m\u001b[0mfp\u001b[0m\u001b[0;34m)\u001b[0m\u001b[0;34m\u001b[0m\u001b[0m\n\u001b[0m\u001b[1;32m    322\u001b[0m \u001b[0;34m\u001b[0m\u001b[0m\n\u001b[1;32m    323\u001b[0m         \u001b[0;32mif\u001b[0m \u001b[0mself\u001b[0m\u001b[0;34m.\u001b[0m\u001b[0mdebuglevel\u001b[0m \u001b[0;34m>\u001b[0m \u001b[0;36m0\u001b[0m\u001b[0;34m:\u001b[0m\u001b[0;34m\u001b[0m\u001b[0m\n",
      "\u001b[0;32m~/anaconda3/envs/jing_jing/lib/python3.5/http/client.py\u001b[0m in \u001b[0;36mparse_headers\u001b[0;34m(fp, _class)\u001b[0m\n\u001b[1;32m    204\u001b[0m     \u001b[0mheaders\u001b[0m \u001b[0;34m=\u001b[0m \u001b[0;34m[\u001b[0m\u001b[0;34m]\u001b[0m\u001b[0;34m\u001b[0m\u001b[0m\n\u001b[1;32m    205\u001b[0m     \u001b[0;32mwhile\u001b[0m \u001b[0;32mTrue\u001b[0m\u001b[0;34m:\u001b[0m\u001b[0;34m\u001b[0m\u001b[0m\n\u001b[0;32m--> 206\u001b[0;31m         \u001b[0mline\u001b[0m \u001b[0;34m=\u001b[0m \u001b[0mfp\u001b[0m\u001b[0;34m.\u001b[0m\u001b[0mreadline\u001b[0m\u001b[0;34m(\u001b[0m\u001b[0m_MAXLINE\u001b[0m \u001b[0;34m+\u001b[0m \u001b[0;36m1\u001b[0m\u001b[0;34m)\u001b[0m\u001b[0;34m\u001b[0m\u001b[0m\n\u001b[0m\u001b[1;32m    207\u001b[0m         \u001b[0;32mif\u001b[0m \u001b[0mlen\u001b[0m\u001b[0;34m(\u001b[0m\u001b[0mline\u001b[0m\u001b[0;34m)\u001b[0m \u001b[0;34m>\u001b[0m \u001b[0m_MAXLINE\u001b[0m\u001b[0;34m:\u001b[0m\u001b[0;34m\u001b[0m\u001b[0m\n\u001b[1;32m    208\u001b[0m             \u001b[0;32mraise\u001b[0m \u001b[0mLineTooLong\u001b[0m\u001b[0;34m(\u001b[0m\u001b[0;34m\"header line\"\u001b[0m\u001b[0;34m)\u001b[0m\u001b[0;34m\u001b[0m\u001b[0m\n",
      "\u001b[0;31mKeyboardInterrupt\u001b[0m: "
     ]
    }
   ],
   "source": [
    "start_url = 'https://en.tripadvisor.com.hk'\n",
    "number_of_page = 0\n",
    "full_url = 'https://en.tripadvisor.com.hk/Hotel_Review-g297701-d8293999-Reviews-Mandapa_A_Ritz_Carlton_Reserve-Ubud_Bali.html'\n",
    "\n",
    "while True:\n",
    "    response = urlopen(full_url, timeout=20)\n",
    "    soup = BeautifulSoup(response, \"html5lib\")\n",
    "    try:\n",
    "        page_bar = soup.find('div',{'class':'prw_rup prw_common_responsive_pagination'})\n",
    "        inside_url = page_bar.find('a',{'class':'nav next taLnk ui_button primary'})['href']\n",
    "\n",
    "        full_url = start_url + inside_url\n",
    "        print (full_url)\n",
    "    except:\n",
    "        print ('end of page searching')\n",
    "        break"
   ]
  },
  {
   "cell_type": "code",
   "execution_count": 43,
   "metadata": {
    "collapsed": true
   },
   "outputs": [],
   "source": [
    "review_link = []\n",
    "\n",
    "start_url = 'https://en.tripadvisor.com.hk'\n",
    "\n",
    "quote = (soup.findAll('div',{'class':\"quote\"}))\n",
    "\n",
    "\n",
    "\n",
    "for div in quote:\n",
    "    inside_url =  div.find('a')['href']\n",
    "    full_url = start_url + inside_url\n",
    "    review_link.append(full_url)\n"
   ]
  }
 ],
 "metadata": {
  "kernelspec": {
   "display_name": "Python [default]",
   "language": "python",
   "name": "python3"
  },
  "language_info": {
   "codemirror_mode": {
    "name": "ipython",
    "version": 3
   },
   "file_extension": ".py",
   "mimetype": "text/x-python",
   "name": "python",
   "nbconvert_exporter": "python",
   "pygments_lexer": "ipython3",
   "version": "3.6.4"
  }
 },
 "nbformat": 4,
 "nbformat_minor": 2
}
