{
 "cells": [
  {
   "cell_type": "code",
   "execution_count": 1,
   "metadata": {
    "collapsed": true
   },
   "outputs": [],
   "source": [
    "import scrapy"
   ]
  },
  {
   "cell_type": "code",
   "execution_count": 3,
   "metadata": {
    "collapsed": true
   },
   "outputs": [],
   "source": [
    "class tripadvisorSpider(scrapy.Spider):\n",
    "    name = 'tripadvisor'\n",
    "    start_urls = [\n",
    "        'https://en.tripadvisor.com.hk/Hotel_Review-g297701-d8293999-Reviews-Mandapa_A_Ritz_Carlton_Reserve-Ubud_Bali.html',\n",
    "    ]\n",
    "    \n",
    "    def parse(self, response):\n",
    "        next_page = response.css('div.prw_rup prw_common_responsive_pagination c.nav next taLnk ui_button primary::attr(\"href)').extract_first()\n",
    "        print (next_page)"
   ]
  }
 ],
 "metadata": {
  "kernelspec": {
   "display_name": "Python [conda env:jing_jing]",
   "language": "python",
   "name": "conda-env-jing_jing-py"
  },
  "language_info": {
   "codemirror_mode": {
    "name": "ipython",
    "version": 3
   },
   "file_extension": ".py",
   "mimetype": "text/x-python",
   "name": "python",
   "nbconvert_exporter": "python",
   "pygments_lexer": "ipython3",
   "version": "3.5.4"
  }
 },
 "nbformat": 4,
 "nbformat_minor": 2
}
