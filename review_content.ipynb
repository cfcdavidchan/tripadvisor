{
 "cells": [
  {
   "cell_type": "code",
   "execution_count": 1,
   "metadata": {},
   "outputs": [],
   "source": [
    "import requests, json, random \n",
    "from bs4 import BeautifulSoup\n",
    "from urllib.request import urlopen"
   ]
  },
  {
   "cell_type": "code",
   "execution_count": 40,
   "metadata": {},
   "outputs": [],
   "source": [
    "def url_content(url):\n",
    "    response = urlopen(url, timeout=20)\n",
    "    soup = BeautifulSoup(response, \"html5lib\")\n",
    "\n",
    "    \n",
    "    ## extract the general information\n",
    "    general_information = json.loads(soup.find('script', type=\"application/ld+json\").text)\n",
    "    #return general_information\n",
    "    try:\n",
    "        review_date = general_information['datePublished']\n",
    "    except:\n",
    "        try:\n",
    "            review_date = soup.find('div',{'class':\"ui_column is-10-desktop is-12-tablet is-12-mobile\"}).find('span',{'class':\"ratingDate\"})['title']\n",
    "        except:\n",
    "            review_date = 'unknown'\n",
    "    try:\n",
    "        title = general_information['name']\n",
    "    except:\n",
    "        title = 'unknown'\n",
    "    try:\n",
    "        content = general_information['reviewBody']\n",
    "    except:\n",
    "        content = 'unknown'\n",
    "    try:\n",
    "        overall_rating = int(general_information['reviewRating']['ratingValue'])\n",
    "    except:\n",
    "        overall_rating = 'unknown'\n",
    "    \n",
    "    ##return review_date, title, content, overall_rating\n",
    "    \n",
    "    ## extract the traveling type and date\n",
    "    stay_info = soup.find('div',{'class':\"recommend-titleInline\"}).text\n",
    "    stay_hardcode = 'Stayed: '\n",
    "    comma_hardcode = ', '    \n",
    "    stay_date = stay_info[len(stay_hardcode):stay_info.find(',')]\n",
    "    traveling_type = ''\n",
    "    traveling_type_table = ['family','couple','solo','business','frined']\n",
    "    for type_ in traveling_type_table:\n",
    "        if type_ in stay_info:\n",
    "            traveling_type = type_\n",
    "            break\n",
    "    if traveling_type == '': ## save the whole crwl info if the traveling type cannot be detacted\n",
    "        try:\n",
    "            print ('type cannot be detected')\n",
    "            traveling_type = stay_info[len('travelled as a '):]\n",
    "        except:\n",
    "            traveling_type = stay_info\n",
    "    ##return stay_date, traveling_type\n",
    "            \n",
    "    ## ranking part\n",
    "    star_info = soup.findAll('div',{'class':\"ui_column is-10-desktop is-12-tablet is-12-mobile\"})\n",
    "    star_info = star_info[0].findAll('li',{'class':\"recommend-answer\"})\n",
    "    \n",
    "    description = 'ui_bubble_rating bubble_'\n",
    "    ranking_dict = dict()\n",
    "    \n",
    "    if len(star_info) > 0: #only do this when the reviewer provides the rating of each area\n",
    "        for rate in star_info:\n",
    "            rate_area = rate.find('div',{'class':\"recommend-description\"}).text\n",
    "\n",
    "            pointer = str(rate).find(description) + len('ui_bubble_rating bubble_')\n",
    "            try:\n",
    "                rate_mark = int(str(rate)[pointer:pointer+2])/10\n",
    "            except:\n",
    "                rate_mark = str(rate)\n",
    "\n",
    "            ranking_dict[rate_area] = rate_mark\n",
    "    \n",
    "    ##return ranking_dict\n",
    "    \n",
    "    ## review information\n",
    "    try:\n",
    "        reviewer_name = soup.find('div',{'class':\"prw_rup prw_reviews_member_info_resp_sur\"}).find('div',{'class':\"info_text\"}).find('div').get_text()\n",
    "    except:\n",
    "        reviewer_name = 'unknown'\n",
    "    try:\n",
    "        reviewer_contributions = int(soup.find('div',{'class':\"prw_rup prw_reviews_member_info_resp_sur\"}).find('span',{'class':'badgetext'}).get_text())\n",
    "    except:\n",
    "        reviewer_contributions = 'unknown'\n",
    "\n",
    "    try:\n",
    "        reviewer_location = soup.find('div',{'class':\"prw_rup prw_reviews_member_info_resp_sur\"}).find('div',{'class':\"userLoc\"}).get_text()\n",
    "    except:\n",
    "        reviewer_location = 'unknown'\n",
    "    \n",
    "    #return reviewer_name, reviewer_contributions, reviewer_location\n",
    "    \n",
    "    \n",
    "    \n",
    "    \n",
    "    return review_date, title, content, overall_rating, stay_date, traveling_type, ranking_dict, reviewer_name, reviewer_contributions, reviewer_location\n",
    "    "
   ]
  },
  {
   "cell_type": "code",
   "execution_count": 3,
   "metadata": {},
   "outputs": [],
   "source": [
    "test_url_1 = 'https://en.tripadvisor.com.hk/ShowUserReviews-g297701-d603335-r616402936-Viceroy_Bali-Ubud_Bali.html'\n",
    "test_url_2 = 'https://en.tripadvisor.com.hk/ShowUserReviews-g297701-d8293999-r618076141-Mandapa_A_Ritz_Carlton_Reserve-Ubud_Bali.html'\n",
    "test_url_3 = 'https://en.tripadvisor.com.hk/ShowUserReviews-g297701-d603335-r507151028-Viceroy_Bali-Ubud_Bali.html'\n",
    "\n",
    "test_url_list = [test_url_1, test_url_2, test_url_3]\n",
    "\n",
    "test_url = random.choice(test_url_list)\n",
    "\n",
    "review_date, title, content, overall_rating, stay_date, traveling_type, ranking_dict, reviewer_name, reviewer_contributions, reviewer_location = url_content(test_url) "
   ]
  },
  {
   "cell_type": "code",
   "execution_count": 4,
   "metadata": {},
   "outputs": [
    {
     "name": "stdout",
     "output_type": "stream",
     "text": [
      "test url:  https://en.tripadvisor.com.hk/ShowUserReviews-g297701-d603335-r507151028-Viceroy_Bali-Ubud_Bali.html\n",
      "review date:  30 July 2017\n",
      "review title:  Honeymoon trip\n",
      "review content:  We stayed in Viceroy during our honeymoon. It\\'s definitely a beautiful hotel with amazing views and the restaurant food is very good... But the construction site next to our villa slightly spoil the stay, both in terms of the views and tranquillity. To be honest we felt quite cheated as none informed us about the construction site at the time of booking and if we knew we probably would choose it. Also the bar/room service food is not up to the same standard as the restaurant\\'s food.\n",
      "overall rating:  3\n",
      "Stay date:  July 2017\n",
      "traveling type:  couple\n",
      "Rating Table:  {}\n",
      "Reviewer Name: Paula M\n",
      "Reviewer Contributions: 57\n",
      "Reviwer Location: unknown\n"
     ]
    }
   ],
   "source": [
    "print ('test url: ',test_url)\n",
    "print ('review date: ',review_date)\n",
    "print ('review title: ',title)\n",
    "print ('review content: ', content)\n",
    "print ('overall rating: ', overall_rating)\n",
    "print ('Stay date: ',stay_date)\n",
    "print ('traveling type: ', traveling_type)\n",
    "print ('Rating Table: ', ranking_dict)\n",
    "print ('Reviewer Name:', reviewer_name)\n",
    "print ('Reviewer Contributions:', reviewer_contributions)\n",
    "print ('Reviwer Location:', reviewer_location)"
   ]
  },
  {
   "cell_type": "code",
   "execution_count": 28,
   "metadata": {},
   "outputs": [],
   "source": [
    "url = 'https://en.tripadvisor.com.hk/ShowUserReviews-g297701-d8293999-r618388533-Mandapa_A_Ritz_Carlton_Reserve-Ubud_Bali.html'"
   ]
  },
  {
   "cell_type": "code",
   "execution_count": 41,
   "metadata": {},
   "outputs": [],
   "source": [
    "review_date, title, content, overall_rating, stay_date, traveling_type, ranking_dict, reviewer_name, reviewer_contributions, reviewer_location = url_content(url) "
   ]
  },
  {
   "cell_type": "code",
   "execution_count": 42,
   "metadata": {},
   "outputs": [
    {
     "name": "stdout",
     "output_type": "stream",
     "text": [
      "test url:  https://en.tripadvisor.com.hk/ShowUserReviews-g297701-d8293999-r618388533-Mandapa_A_Ritz_Carlton_Reserve-Ubud_Bali.html\n",
      "review date:  21 September 2018\n",
      "review title:  Ultimate retreat!\n",
      "review content:  We spent 1 amazing week at Mandapa resort and can\\'t rave about it enough! It\\'s situated in the rain forest and it\\'s absolutely beautiful, particularly as it\\'s surrounded by the Ayung river. It has a very calming and spiritual influence which we loved. Budi, our butler, was fantastic, nothing was ever too much trouble so would like to say a huge thank you to her for looking after us so well! \\nThe pool villa was awesome and extremely private. The pool is stunning and quite big for a private pool in a beautiful garden. It was such a pleasure to relax there after a hard days shopping\\ud83d\\ude05\\nThe restaurants in the resort are all amazing. I loved the breakfast menus and choices and always looked forward to drinking my health shot each morning and their fresh health juices. Great way to start the day!\\nWe took advantage of their vintage tour which was arranged at very short notice. Boy Alek was our tour guide who took us to the rice paddies, water temple and various other attractions. He was really great and gave us a lot of interesting information.\\nI have to say that customer service is extremely high on the resorts agenda as it is impeccable! Every single staff we met or encountered were amazing and always smiling. I highly recommend this resort and would love to go back sometime in the future!\n",
      "overall rating:  5\n",
      "Stay date:  August 2018\n",
      "traveling type:  couple\n",
      "Rating Table:  {}\n",
      "Reviewer Name: GMClooney\n",
      "Reviewer Contributions: 51\n",
      "Reviwer Location: Abu Dhabi, United Arab Emirates\n"
     ]
    }
   ],
   "source": [
    "print ('test url: ',url)\n",
    "print ('review date: ',review_date)\n",
    "print ('review title: ',title)\n",
    "print ('review content: ', content)\n",
    "print ('overall rating: ', overall_rating)\n",
    "print ('Stay date: ',stay_date)\n",
    "print ('traveling type: ', traveling_type)\n",
    "print ('Rating Table: ', ranking_dict)\n",
    "print ('Reviewer Name:', reviewer_name)\n",
    "print ('Reviewer Contributions:', reviewer_contributions)\n",
    "print ('Reviwer Location:', reviewer_location)"
   ]
  },
  {
   "cell_type": "code",
   "execution_count": null,
   "metadata": {},
   "outputs": [],
   "source": []
  },
  {
   "cell_type": "code",
   "execution_count": 16,
   "metadata": {},
   "outputs": [],
   "source": [
    "url ='https://en.tripadvisor.com.hk/Hotel_Review-g297701-d8293999-Reviews-Mandapa_A_Ritz_Carlton_Reserve-Ubud_Bali.html'"
   ]
  },
  {
   "cell_type": "code",
   "execution_count": null,
   "metadata": {},
   "outputs": [],
   "source": []
  }
 ],
 "metadata": {
  "kernelspec": {
   "display_name": "Python 3",
   "language": "python",
   "name": "python3"
  },
  "language_info": {
   "codemirror_mode": {
    "name": "ipython",
    "version": 3
   },
   "file_extension": ".py",
   "mimetype": "text/x-python",
   "name": "python",
   "nbconvert_exporter": "python",
   "pygments_lexer": "ipython3",
   "version": "3.5.6"
  }
 },
 "nbformat": 4,
 "nbformat_minor": 2
}
