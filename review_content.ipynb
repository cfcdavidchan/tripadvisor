{
 "cells": [
  {
   "cell_type": "code",
   "execution_count": 3,
   "metadata": {
    "collapsed": true
   },
   "outputs": [],
   "source": [
    "import requests, json, random \n",
    "from bs4 import BeautifulSoup\n",
    "from urllib.request import urlopen"
   ]
  },
  {
   "cell_type": "code",
   "execution_count": 107,
   "metadata": {},
   "outputs": [],
   "source": [
    "def url_content(url):\n",
    "    response = urlopen(url, timeout=20)\n",
    "    soup = BeautifulSoup(response, \"html5lib\")\n",
    "\n",
    "    \n",
    "    ## extract the general information\n",
    "    general_information = json.loads(soup.find('script', type=\"application/ld+json\").text)\n",
    "    #return general_information\n",
    "    try:\n",
    "        review_date = general_information['datePublished']\n",
    "    except:\n",
    "        try:\n",
    "            review_date = soup.find('div',{'class':\"ui_column is-10-desktop is-12-tablet is-12-mobile\"}).find('span',{'class':\"ratingDate\"})['title']\n",
    "        except:\n",
    "            review_date = 'unknown'\n",
    "    try:\n",
    "        title = general_information['name']\n",
    "    except:\n",
    "        title = 'unknown'\n",
    "    try:\n",
    "        content = general_information['reviewBody']\n",
    "    except:\n",
    "        content = 'unknown'\n",
    "    try:\n",
    "        overall_rating = int(general_information['reviewRating']['ratingValue'])\n",
    "    except:\n",
    "        overall_rating = 'unknown'\n",
    "    \n",
    "    ##return review_date, title, content, overall_rating\n",
    "    \n",
    "    ## extract the traveling type and date\n",
    "    stay_info = soup.find('div',{'class':\"recommend-titleInline\"}).text\n",
    "    stay_hardcode = 'Stayed: '\n",
    "    comma_hardcode = ', '    \n",
    "    stay_date = stay_info[len(stay_hardcode):stay_info.find(',')]\n",
    "    traveling_type = ''\n",
    "    traveling_type_table = ['family','couple','solo','business','frined']\n",
    "    for type_ in traveling_type_table:\n",
    "        if type_ in stay_info:\n",
    "            traveling_type = type_\n",
    "            break\n",
    "    if traveling_type == '': ## save the whole crwl info if the traveling type cannot be detacted\n",
    "        try:\n",
    "            print ('type cannot be detected')\n",
    "            traveling_type = stay_info[len('travelled as a '):]\n",
    "        except:\n",
    "            traveling_type = stay_info\n",
    "    ##return stay_date, traveling_type\n",
    "            \n",
    "    ## ranking part\n",
    "    star_info = soup.findAll('div',{'class':\"ui_column is-10-desktop is-12-tablet is-12-mobile\"})\n",
    "    star_info = star_info[0].findAll('li',{'class':\"recommend-answer\"})\n",
    "    \n",
    "    description = 'ui_bubble_rating bubble_'\n",
    "    ranking_dict = dict()\n",
    "    \n",
    "    if len(star_info) > 0: #only do this when the reviewer provides the rating of each area\n",
    "        for rate in star_info:\n",
    "            rate_area = rate.find('div',{'class':\"recommend-description\"}).text\n",
    "\n",
    "            pointer = str(rate).find(description) + len('ui_bubble_rating bubble_')\n",
    "            try:\n",
    "                rate_mark = int(str(rate)[pointer:pointer+2])/10\n",
    "            except:\n",
    "                rate_mark = str(rate)\n",
    "\n",
    "            ranking_dict[rate_area] = rate_mark\n",
    "    \n",
    "    ##return ranking_dict\n",
    "    \n",
    "    ## review information\n",
    "    try:\n",
    "        reviewer_name = soup.find('div',{'class':\"prw_rup prw_reviews_member_info_resp_sur\"}).find('div',{'class':\"info_text\"}).get_text()\n",
    "    except:\n",
    "        reviewer_name = 'unknown'\n",
    "    try:\n",
    "        reviewer_contributions = int(soup.find('div',{'class':\"prw_rup prw_reviews_member_info_resp_sur\"}).find('span',{'class':'badgetext'}).get_text())\n",
    "    except:\n",
    "        reviewer_contributions = 'unknown'\n",
    "\n",
    "    try:\n",
    "        reviewer_location = soup.find('div',{'class':\"prw_rup prw_reviews_member_info_resp_sur\"}).find('div',{'class':\"userLoc\"}).get_text()\n",
    "    except:\n",
    "        reviewer_location = 'unknown'\n",
    "    \n",
    "    #return reviewer_name, reviewer_contributions, reviewer_location\n",
    "    \n",
    "    \n",
    "    \n",
    "    \n",
    "    return review_date, title, content, overall_rating, stay_date, traveling_type, ranking_dict, reviewer_name, reviewer_contributions, reviewer_location\n",
    "    "
   ]
  },
  {
   "cell_type": "code",
   "execution_count": 108,
   "metadata": {},
   "outputs": [],
   "source": [
    "test_url_1 = 'https://en.tripadvisor.com.hk/ShowUserReviews-g297701-d603335-r616402936-Viceroy_Bali-Ubud_Bali.html'\n",
    "test_url_2 = 'https://en.tripadvisor.com.hk/ShowUserReviews-g297701-d8293999-r618076141-Mandapa_A_Ritz_Carlton_Reserve-Ubud_Bali.html'\n",
    "test_url_3 = 'https://en.tripadvisor.com.hk/ShowUserReviews-g297701-d603335-r507151028-Viceroy_Bali-Ubud_Bali.html'\n",
    "\n",
    "test_url_list = [test_url_1, test_url_2, test_url_3]\n",
    "\n",
    "test_url = random.choice(test_url_list)\n",
    "\n",
    "review_date, title, content, overall_rating, stay_date, traveling_type, ranking_dict, reviewer_name, reviewer_contributions, reviewer_location = url_content(test_url) "
   ]
  },
  {
   "cell_type": "code",
   "execution_count": 109,
   "metadata": {},
   "outputs": [
    {
     "name": "stdout",
     "output_type": "stream",
     "text": [
      "test url:  https://en.tripadvisor.com.hk/ShowUserReviews-g297701-d8293999-r618076141-Mandapa_A_Ritz_Carlton_Reserve-Ubud_Bali.html\n",
      "review date:  20 September 2018\n",
      "review title:  BEST for Honeymoon!\n",
      "review content:  We booked a villa and it was worth every penny. We loved the private pool and spa!\\nOur room was clean and beautiful! \\nService was amazing! \\n\\nI can\\'t recommend this place enough! \\nIt\\'s definitely one of my favourite hotels in Indonesia!!!\n",
      "overall rating:  5\n",
      "Stay date:  September 2018\n",
      "traveling type:  couple\n",
      "Rating Table:  {'Rooms': 5.0, 'Cleanliness': 5.0, 'Service': 5.0}\n",
      "Reviewer Name: KLCLCCSingapore\n",
      "Reviewer Contributions: 124\n",
      "Reviwer Location: Singapore\n"
     ]
    }
   ],
   "source": [
    "print ('test url: ',test_url)\n",
    "print ('review date: ',review_date)\n",
    "print ('review title: ',title)\n",
    "print ('review content: ', content)\n",
    "print ('overall rating: ', overall_rating)\n",
    "print ('Stay date: ',stay_date)\n",
    "print ('traveling type: ', traveling_type)\n",
    "print ('Rating Table: ', ranking_dict)\n",
    "print ('Reviewer Name:', reviewer_name)\n",
    "print ('Reviewer Contributions:', reviewer_contributions)\n",
    "print ('Reviwer Location:', reviewer_location)"
   ]
  },
  {
   "cell_type": "code",
   "execution_count": 70,
   "metadata": {},
   "outputs": [],
   "source": [
    "general_information = url_content(test_url)"
   ]
  },
  {
   "cell_type": "code",
   "execution_count": 80,
   "metadata": {},
   "outputs": [],
   "source": [
    "response = urlopen(test_url, timeout=20)\n",
    "soup = BeautifulSoup(response, \"html5lib\")\n",
    "\n"
   ]
  },
  {
   "cell_type": "code",
   "execution_count": 86,
   "metadata": {},
   "outputs": [],
   "source": [
    "date = soup.find('div',{'class':\"ui_column is-10-desktop is-12-tablet is-12-mobile\"}).find('span',{'class':\"ratingDate\"})['title']"
   ]
  },
  {
   "cell_type": "code",
   "execution_count": 87,
   "metadata": {},
   "outputs": [
    {
     "data": {
      "text/plain": [
       "'30 July 2017'"
      ]
     },
     "execution_count": 87,
     "metadata": {},
     "output_type": "execute_result"
    }
   ],
   "source": [
    "date"
   ]
  },
  {
   "cell_type": "code",
   "execution_count": 71,
   "metadata": {},
   "outputs": [
    {
     "data": {
      "text/plain": [
       "{'@context': 'http://schema.org',\n",
       " '@type': 'Review',\n",
       " 'author': 'a TripAdvisor user',\n",
       " 'image': 'https://media-cdn.tripadvisor.com/media/photo-s/11/bf/07/ec/viceroy-bali.jpg',\n",
       " 'itemReviewed': {'@type': 'LodgingBusiness',\n",
       "  'address': {'@type': 'PostalAddress',\n",
       "   'addressCountry': {'@type': 'Country', 'name': 'Indonesia'},\n",
       "   'addressLocality': '',\n",
       "   'addressRegion': '',\n",
       "   'postalCode': '80571',\n",
       "   'streetAddress': 'Jln. Lanyahan, Br. Nagi'},\n",
       "  'image': 'https://media-cdn.tripadvisor.com/media/photo-s/11/bf/07/ec/viceroy-bali.jpg',\n",
       "  'name': 'Viceroy Bali',\n",
       "  'priceRange': 'HK$3,827 - HK$13,123 (Based on Average Rates for a Standard Room)'},\n",
       " 'name': 'Honeymoon trip',\n",
       " 'reviewBody': \"We stayed in Viceroy during our honeymoon. It\\\\'s definitely a beautiful hotel with amazing views and the restaurant food is very good... But the construction site next to our villa slightly spoil the stay, both in terms of the views and tranquillity. To be honest we felt quite cheated as none informed us about the construction site at the time of booking and if we knew we probably would choose it. Also the bar/room service food is not up to the same standard as the restaurant\\\\'s food.\",\n",
       " 'reviewRating': {'@type': 'Rating', 'ratingValue': '3'},\n",
       " 'url': '/Hotel_Review-g297701-d603335-Reviews-Viceroy_Bali-Ubud_Bali.html'}"
      ]
     },
     "execution_count": 71,
     "metadata": {},
     "output_type": "execute_result"
    }
   ],
   "source": [
    "general_information"
   ]
  }
 ],
 "metadata": {
  "kernelspec": {
   "display_name": "Python [conda env:jing_jing]",
   "language": "python",
   "name": "conda-env-jing_jing-py"
  },
  "language_info": {
   "codemirror_mode": {
    "name": "ipython",
    "version": 3
   },
   "file_extension": ".py",
   "mimetype": "text/x-python",
   "name": "python",
   "nbconvert_exporter": "python",
   "pygments_lexer": "ipython3",
   "version": "3.5.4"
  }
 },
 "nbformat": 4,
 "nbformat_minor": 2
}
